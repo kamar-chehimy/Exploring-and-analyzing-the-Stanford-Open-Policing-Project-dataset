{
  "nbformat": 4,
  "nbformat_minor": 0,
  "metadata": {
    "colab": {
      "provenance": [],
      "collapsed_sections": []
    },
    "kernelspec": {
      "name": "python3",
      "display_name": "Python 3"
    },
    "language_info": {
      "name": "python"
    }
  },
  "cells": [
    {
      "cell_type": "markdown",
      "source": [
        "Explore the Stanford Open Policing Project dataset and analyze the impact of gender on police behavior after cleaning messy data, creating visualizations, combining and reshaping datasets, and manipulating time series data. "
      ],
      "metadata": {
        "id": "8c7JApLOFJ-h"
      }
    },
    {
      "cell_type": "markdown",
      "source": [
        "# Preparing the data"
      ],
      "metadata": {
        "id": "eQuv4-iIIrlG"
      }
    },
    {
      "cell_type": "code",
      "execution_count": null,
      "metadata": {
        "id": "mX_sCEkgEtgu"
      },
      "outputs": [],
      "source": [
        "import pandas as pd\n"
      ]
    },
    {
      "cell_type": "code",
      "source": [
        "ri=pd.read_csv('https://assets.datacamp.com/production/repositories/1497/datasets/62bd9feef451860db02d26553613a299721882e8/police.csv')\n",
        "ri.head()"
      ],
      "metadata": {
        "colab": {
          "base_uri": "https://localhost:8080/",
          "height": 357
        },
        "id": "4pwZjmLrE3jx",
        "outputId": "f63ac9f5-9689-45bd-b8cf-89c0a8911394"
      },
      "execution_count": null,
      "outputs": [
        {
          "output_type": "execute_result",
          "data": {
            "text/plain": [
              "  state   stop_date stop_time  county_name driver_gender driver_race  \\\n",
              "0    RI  2005-01-04     12:55          NaN             M       White   \n",
              "1    RI  2005-01-23     23:15          NaN             M       White   \n",
              "2    RI  2005-02-17     04:15          NaN             M       White   \n",
              "3    RI  2005-02-20     17:15          NaN             M       White   \n",
              "4    RI  2005-02-24     01:20          NaN             F       White   \n",
              "\n",
              "                    violation_raw  violation  search_conducted search_type  \\\n",
              "0  Equipment/Inspection Violation  Equipment             False         NaN   \n",
              "1                        Speeding   Speeding             False         NaN   \n",
              "2                        Speeding   Speeding             False         NaN   \n",
              "3                Call for Service      Other             False         NaN   \n",
              "4                        Speeding   Speeding             False         NaN   \n",
              "\n",
              "    stop_outcome is_arrested stop_duration  drugs_related_stop district  \n",
              "0       Citation       False      0-15 Min               False  Zone X4  \n",
              "1       Citation       False      0-15 Min               False  Zone K3  \n",
              "2       Citation       False      0-15 Min               False  Zone X4  \n",
              "3  Arrest Driver        True     16-30 Min               False  Zone X1  \n",
              "4       Citation       False      0-15 Min               False  Zone X3  "
            ],
            "text/html": [
              "\n",
              "  <div id=\"df-b0b6c1a6-f2c0-4705-85b8-470a68aca9b2\">\n",
              "    <div class=\"colab-df-container\">\n",
              "      <div>\n",
              "<style scoped>\n",
              "    .dataframe tbody tr th:only-of-type {\n",
              "        vertical-align: middle;\n",
              "    }\n",
              "\n",
              "    .dataframe tbody tr th {\n",
              "        vertical-align: top;\n",
              "    }\n",
              "\n",
              "    .dataframe thead th {\n",
              "        text-align: right;\n",
              "    }\n",
              "</style>\n",
              "<table border=\"1\" class=\"dataframe\">\n",
              "  <thead>\n",
              "    <tr style=\"text-align: right;\">\n",
              "      <th></th>\n",
              "      <th>state</th>\n",
              "      <th>stop_date</th>\n",
              "      <th>stop_time</th>\n",
              "      <th>county_name</th>\n",
              "      <th>driver_gender</th>\n",
              "      <th>driver_race</th>\n",
              "      <th>violation_raw</th>\n",
              "      <th>violation</th>\n",
              "      <th>search_conducted</th>\n",
              "      <th>search_type</th>\n",
              "      <th>stop_outcome</th>\n",
              "      <th>is_arrested</th>\n",
              "      <th>stop_duration</th>\n",
              "      <th>drugs_related_stop</th>\n",
              "      <th>district</th>\n",
              "    </tr>\n",
              "  </thead>\n",
              "  <tbody>\n",
              "    <tr>\n",
              "      <th>0</th>\n",
              "      <td>RI</td>\n",
              "      <td>2005-01-04</td>\n",
              "      <td>12:55</td>\n",
              "      <td>NaN</td>\n",
              "      <td>M</td>\n",
              "      <td>White</td>\n",
              "      <td>Equipment/Inspection Violation</td>\n",
              "      <td>Equipment</td>\n",
              "      <td>False</td>\n",
              "      <td>NaN</td>\n",
              "      <td>Citation</td>\n",
              "      <td>False</td>\n",
              "      <td>0-15 Min</td>\n",
              "      <td>False</td>\n",
              "      <td>Zone X4</td>\n",
              "    </tr>\n",
              "    <tr>\n",
              "      <th>1</th>\n",
              "      <td>RI</td>\n",
              "      <td>2005-01-23</td>\n",
              "      <td>23:15</td>\n",
              "      <td>NaN</td>\n",
              "      <td>M</td>\n",
              "      <td>White</td>\n",
              "      <td>Speeding</td>\n",
              "      <td>Speeding</td>\n",
              "      <td>False</td>\n",
              "      <td>NaN</td>\n",
              "      <td>Citation</td>\n",
              "      <td>False</td>\n",
              "      <td>0-15 Min</td>\n",
              "      <td>False</td>\n",
              "      <td>Zone K3</td>\n",
              "    </tr>\n",
              "    <tr>\n",
              "      <th>2</th>\n",
              "      <td>RI</td>\n",
              "      <td>2005-02-17</td>\n",
              "      <td>04:15</td>\n",
              "      <td>NaN</td>\n",
              "      <td>M</td>\n",
              "      <td>White</td>\n",
              "      <td>Speeding</td>\n",
              "      <td>Speeding</td>\n",
              "      <td>False</td>\n",
              "      <td>NaN</td>\n",
              "      <td>Citation</td>\n",
              "      <td>False</td>\n",
              "      <td>0-15 Min</td>\n",
              "      <td>False</td>\n",
              "      <td>Zone X4</td>\n",
              "    </tr>\n",
              "    <tr>\n",
              "      <th>3</th>\n",
              "      <td>RI</td>\n",
              "      <td>2005-02-20</td>\n",
              "      <td>17:15</td>\n",
              "      <td>NaN</td>\n",
              "      <td>M</td>\n",
              "      <td>White</td>\n",
              "      <td>Call for Service</td>\n",
              "      <td>Other</td>\n",
              "      <td>False</td>\n",
              "      <td>NaN</td>\n",
              "      <td>Arrest Driver</td>\n",
              "      <td>True</td>\n",
              "      <td>16-30 Min</td>\n",
              "      <td>False</td>\n",
              "      <td>Zone X1</td>\n",
              "    </tr>\n",
              "    <tr>\n",
              "      <th>4</th>\n",
              "      <td>RI</td>\n",
              "      <td>2005-02-24</td>\n",
              "      <td>01:20</td>\n",
              "      <td>NaN</td>\n",
              "      <td>F</td>\n",
              "      <td>White</td>\n",
              "      <td>Speeding</td>\n",
              "      <td>Speeding</td>\n",
              "      <td>False</td>\n",
              "      <td>NaN</td>\n",
              "      <td>Citation</td>\n",
              "      <td>False</td>\n",
              "      <td>0-15 Min</td>\n",
              "      <td>False</td>\n",
              "      <td>Zone X3</td>\n",
              "    </tr>\n",
              "  </tbody>\n",
              "</table>\n",
              "</div>\n",
              "      <button class=\"colab-df-convert\" onclick=\"convertToInteractive('df-b0b6c1a6-f2c0-4705-85b8-470a68aca9b2')\"\n",
              "              title=\"Convert this dataframe to an interactive table.\"\n",
              "              style=\"display:none;\">\n",
              "        \n",
              "  <svg xmlns=\"http://www.w3.org/2000/svg\" height=\"24px\"viewBox=\"0 0 24 24\"\n",
              "       width=\"24px\">\n",
              "    <path d=\"M0 0h24v24H0V0z\" fill=\"none\"/>\n",
              "    <path d=\"M18.56 5.44l.94 2.06.94-2.06 2.06-.94-2.06-.94-.94-2.06-.94 2.06-2.06.94zm-11 1L8.5 8.5l.94-2.06 2.06-.94-2.06-.94L8.5 2.5l-.94 2.06-2.06.94zm10 10l.94 2.06.94-2.06 2.06-.94-2.06-.94-.94-2.06-.94 2.06-2.06.94z\"/><path d=\"M17.41 7.96l-1.37-1.37c-.4-.4-.92-.59-1.43-.59-.52 0-1.04.2-1.43.59L10.3 9.45l-7.72 7.72c-.78.78-.78 2.05 0 2.83L4 21.41c.39.39.9.59 1.41.59.51 0 1.02-.2 1.41-.59l7.78-7.78 2.81-2.81c.8-.78.8-2.07 0-2.86zM5.41 20L4 18.59l7.72-7.72 1.47 1.35L5.41 20z\"/>\n",
              "  </svg>\n",
              "      </button>\n",
              "      \n",
              "  <style>\n",
              "    .colab-df-container {\n",
              "      display:flex;\n",
              "      flex-wrap:wrap;\n",
              "      gap: 12px;\n",
              "    }\n",
              "\n",
              "    .colab-df-convert {\n",
              "      background-color: #E8F0FE;\n",
              "      border: none;\n",
              "      border-radius: 50%;\n",
              "      cursor: pointer;\n",
              "      display: none;\n",
              "      fill: #1967D2;\n",
              "      height: 32px;\n",
              "      padding: 0 0 0 0;\n",
              "      width: 32px;\n",
              "    }\n",
              "\n",
              "    .colab-df-convert:hover {\n",
              "      background-color: #E2EBFA;\n",
              "      box-shadow: 0px 1px 2px rgba(60, 64, 67, 0.3), 0px 1px 3px 1px rgba(60, 64, 67, 0.15);\n",
              "      fill: #174EA6;\n",
              "    }\n",
              "\n",
              "    [theme=dark] .colab-df-convert {\n",
              "      background-color: #3B4455;\n",
              "      fill: #D2E3FC;\n",
              "    }\n",
              "\n",
              "    [theme=dark] .colab-df-convert:hover {\n",
              "      background-color: #434B5C;\n",
              "      box-shadow: 0px 1px 3px 1px rgba(0, 0, 0, 0.15);\n",
              "      filter: drop-shadow(0px 1px 2px rgba(0, 0, 0, 0.3));\n",
              "      fill: #FFFFFF;\n",
              "    }\n",
              "  </style>\n",
              "\n",
              "      <script>\n",
              "        const buttonEl =\n",
              "          document.querySelector('#df-b0b6c1a6-f2c0-4705-85b8-470a68aca9b2 button.colab-df-convert');\n",
              "        buttonEl.style.display =\n",
              "          google.colab.kernel.accessAllowed ? 'block' : 'none';\n",
              "\n",
              "        async function convertToInteractive(key) {\n",
              "          const element = document.querySelector('#df-b0b6c1a6-f2c0-4705-85b8-470a68aca9b2');\n",
              "          const dataTable =\n",
              "            await google.colab.kernel.invokeFunction('convertToInteractive',\n",
              "                                                     [key], {});\n",
              "          if (!dataTable) return;\n",
              "\n",
              "          const docLinkHtml = 'Like what you see? Visit the ' +\n",
              "            '<a target=\"_blank\" href=https://colab.research.google.com/notebooks/data_table.ipynb>data table notebook</a>'\n",
              "            + ' to learn more about interactive tables.';\n",
              "          element.innerHTML = '';\n",
              "          dataTable['output_type'] = 'display_data';\n",
              "          await google.colab.output.renderOutput(dataTable, element);\n",
              "          const docLink = document.createElement('div');\n",
              "          docLink.innerHTML = docLinkHtml;\n",
              "          element.appendChild(docLink);\n",
              "        }\n",
              "      </script>\n",
              "    </div>\n",
              "  </div>\n",
              "  "
            ]
          },
          "metadata": {},
          "execution_count": 3
        }
      ]
    },
    {
      "cell_type": "code",
      "source": [
        "# explore shape of dataset\n",
        "print(f\"We have {ri.shape[0]} instant and {ri.shape[1]} features\")"
      ],
      "metadata": {
        "colab": {
          "base_uri": "https://localhost:8080/"
        },
        "id": "DdSAtuFzF3Bs",
        "outputId": "ba217261-9fdb-438e-b870-d46dff838185"
      },
      "execution_count": null,
      "outputs": [
        {
          "output_type": "stream",
          "name": "stdout",
          "text": [
            "We have 91741 instant and 15 features\n"
          ]
        }
      ]
    },
    {
      "cell_type": "code",
      "source": [
        "# Count the number of missing values in each column\n",
        "print(ri.isnull().sum())"
      ],
      "metadata": {
        "colab": {
          "base_uri": "https://localhost:8080/"
        },
        "id": "LjzwxYV8FnUj",
        "outputId": "70b7edb7-1d7e-495f-806b-988fb26aafef"
      },
      "execution_count": null,
      "outputs": [
        {
          "output_type": "stream",
          "name": "stdout",
          "text": [
            "state                     0\n",
            "stop_date                 0\n",
            "stop_time                 0\n",
            "county_name           91741\n",
            "driver_gender          5205\n",
            "driver_race            5202\n",
            "violation_raw          5202\n",
            "violation              5202\n",
            "search_conducted          0\n",
            "search_type           88434\n",
            "stop_outcome           5202\n",
            "is_arrested            5202\n",
            "stop_duration          5202\n",
            "drugs_related_stop        0\n",
            "district                  0\n",
            "dtype: int64\n"
          ]
        }
      ]
    },
    {
      "cell_type": "markdown",
      "source": [
        "drop the county_name column because it only contains missing values, and you'll drop the state column because all of the traffic stops took place in one state (Rhode Island). Thus, these columns can be dropped because they contain no useful information. "
      ],
      "metadata": {
        "id": "fvDyN_d6GKyv"
      }
    },
    {
      "cell_type": "code",
      "source": [
        "# Drop the 'county_name' and 'state' columns\n",
        "ri.drop(['county_name', 'state'], axis='columns', inplace=True)\n",
        "\n",
        "# Examine the shape of the DataFrame (again)\n",
        "print(f\"We have {ri.shape[0]} instant and {ri.shape[1]} features after dropping country name and state\")"
      ],
      "metadata": {
        "colab": {
          "base_uri": "https://localhost:8080/"
        },
        "id": "OVkwO8qIGVuv",
        "outputId": "2b701cdd-d2e5-41c3-8e2c-c69d795e4128"
      },
      "execution_count": null,
      "outputs": [
        {
          "output_type": "stream",
          "name": "stdout",
          "text": [
            "We have 91741 instant and 13 features after dropping country name and state\n"
          ]
        }
      ]
    },
    {
      "cell_type": "markdown",
      "source": [
        "When you know that a specific column will be critical to your analysis, and only a small fraction of rows are missing a value in that column, it often makes sense to remove those rows from the dataset.\n",
        "\n",
        "The driver_gender column will be critical to many of your analyses. Because only a small fraction of rows are missing driver_gender, we'll drop those rows from the dataset."
      ],
      "metadata": {
        "id": "oxj2GfjRG19D"
      }
    },
    {
      "cell_type": "code",
      "source": [
        "# Count the number of missing values in each column\n",
        "print(ri.isnull().sum())\n",
        "\n",
        "# Drop all rows that are missing 'driver_gender'\n",
        "ri.dropna(subset=['driver_gender'], inplace=True)\n",
        "\n",
        "# Count the number of missing values in each column (again)\n",
        "print(ri.isnull().sum(),'\\n')\n",
        "\n",
        "# Examine the shape of the DataFrame\n",
        "print(ri.shape)"
      ],
      "metadata": {
        "colab": {
          "base_uri": "https://localhost:8080/"
        },
        "id": "QL7N_0tKGq4d",
        "outputId": "f87fcc09-da35-4dd2-a978-0138fad57802"
      },
      "execution_count": null,
      "outputs": [
        {
          "output_type": "stream",
          "name": "stdout",
          "text": [
            "stop_date                 0\n",
            "stop_time                 0\n",
            "driver_gender          5205\n",
            "driver_race            5202\n",
            "violation_raw          5202\n",
            "violation              5202\n",
            "search_conducted          0\n",
            "search_type           88434\n",
            "stop_outcome           5202\n",
            "is_arrested            5202\n",
            "stop_duration          5202\n",
            "drugs_related_stop        0\n",
            "district                  0\n",
            "dtype: int64\n",
            "stop_date                 0\n",
            "stop_time                 0\n",
            "driver_gender             0\n",
            "driver_race               0\n",
            "violation_raw             0\n",
            "violation                 0\n",
            "search_conducted          0\n",
            "search_type           83229\n",
            "stop_outcome              0\n",
            "is_arrested               0\n",
            "stop_duration             0\n",
            "drugs_related_stop        0\n",
            "district                  0\n",
            "dtype: int64 \n",
            "\n",
            "(86536, 13)\n"
          ]
        }
      ]
    },
    {
      "cell_type": "markdown",
      "source": [
        "We dropped around 5,000 rows, which is a small fraction of the dataset, and now only one column remains with any missing values.\n"
      ],
      "metadata": {
        "id": "dGIGsbkhHYQh"
      }
    },
    {
      "cell_type": "markdown",
      "source": [
        "# Fixing a data type\n"
      ],
      "metadata": {
        "id": "In6FR77tIf8_"
      }
    },
    {
      "cell_type": "code",
      "source": [
        "ri.dtypes"
      ],
      "metadata": {
        "colab": {
          "base_uri": "https://localhost:8080/"
        },
        "id": "iXlfxBVyIwI3",
        "outputId": "03f6590a-3022-41b7-fecf-9ce75fa387c6"
      },
      "execution_count": null,
      "outputs": [
        {
          "output_type": "execute_result",
          "data": {
            "text/plain": [
              "stop_date             object\n",
              "stop_time             object\n",
              "driver_gender         object\n",
              "driver_race           object\n",
              "violation_raw         object\n",
              "violation             object\n",
              "search_conducted        bool\n",
              "search_type           object\n",
              "stop_outcome          object\n",
              "is_arrested           object\n",
              "stop_duration         object\n",
              "drugs_related_stop      bool\n",
              "district              object\n",
              "dtype: object"
            ]
          },
          "metadata": {},
          "execution_count": 8
        }
      ]
    },
    {
      "cell_type": "markdown",
      "source": [
        "\"is_arrested\" column currently has the object data type. We'll change the data type to bool, which is the most suitable type for a column containing True and False values."
      ],
      "metadata": {
        "id": "E7RLgaMgIjsE"
      }
    },
    {
      "cell_type": "code",
      "source": [
        "# Examine the head of the 'is_arrested' column\n",
        "print(ri.is_arrested.head())\n",
        "\n",
        "# Change the data type of 'is_arrested' to 'bool'\n",
        "ri['is_arrested'] = ri.is_arrested.astype('bool')\n",
        "\n",
        "# Check the data type of 'is_arrested' \n",
        "print(ri.is_arrested.dtype)"
      ],
      "metadata": {
        "colab": {
          "base_uri": "https://localhost:8080/"
        },
        "id": "AlYtI6E9HZc7",
        "outputId": "6404eebe-0070-4fb2-8486-11737a2585b4"
      },
      "execution_count": null,
      "outputs": [
        {
          "output_type": "stream",
          "name": "stdout",
          "text": [
            "0    False\n",
            "1    False\n",
            "2    False\n",
            "3     True\n",
            "4    False\n",
            "Name: is_arrested, dtype: object\n",
            "bool\n"
          ]
        }
      ]
    },
    {
      "cell_type": "markdown",
      "source": [
        "Combining object columns\n",
        "\n",
        "Currently, the date and time of each traffic stop are stored in separate object columns: stop_date and stop_time.\n",
        "\n",
        "We'll combine these two columns into a single column, and then convert it to datetime format. This will enable convenient date-based attributes that we'll use late"
      ],
      "metadata": {
        "id": "ou6KRrzwKYXH"
      }
    },
    {
      "cell_type": "code",
      "source": [
        "# Concatenate 'stop_date' and 'stop_time' (separated by a space)\n",
        "combined = ri.stop_date.str.cat(ri.stop_time, sep=' ')\n",
        "\n",
        "# Convert 'combined' to datetime format\n",
        "ri['stop_datetime'] = pd.to_datetime(combined)\n",
        "\n",
        "# Examine the data types of the DataFrame\n",
        "print(ri.dtypes)"
      ],
      "metadata": {
        "colab": {
          "base_uri": "https://localhost:8080/"
        },
        "id": "ABleu06gJi9T",
        "outputId": "ba0e0c2b-38a7-43e6-88be-5554272f957c"
      },
      "execution_count": null,
      "outputs": [
        {
          "output_type": "stream",
          "name": "stdout",
          "text": [
            "stop_date                     object\n",
            "stop_time                     object\n",
            "driver_gender                 object\n",
            "driver_race                   object\n",
            "violation_raw                 object\n",
            "violation                     object\n",
            "search_conducted                bool\n",
            "search_type                   object\n",
            "stop_outcome                  object\n",
            "is_arrested                     bool\n",
            "stop_duration                 object\n",
            "drugs_related_stop              bool\n",
            "district                      object\n",
            "stop_datetime         datetime64[ns]\n",
            "dtype: object\n"
          ]
        }
      ]
    },
    {
      "cell_type": "markdown",
      "source": [
        "Setting the index\n",
        "\n",
        "The last step that is to set the stop_datetime column as the DataFrame's index. By replacing the default index with a DatetimeIndex, you'll make it easier to analyze the dataset by date and time."
      ],
      "metadata": {
        "id": "Oo-AK6FXLEQL"
      }
    },
    {
      "cell_type": "code",
      "source": [
        "# Set 'stop_datetime' as the index\n",
        "ri.set_index('stop_datetime', inplace=True)\n",
        "\n",
        "# Examine the index\n",
        "print(ri.index)\n",
        "\n",
        "# Examine the columns\n",
        "print(ri.columns)"
      ],
      "metadata": {
        "colab": {
          "base_uri": "https://localhost:8080/"
        },
        "id": "GJtUBj1MK-Ky",
        "outputId": "125987c4-d37b-4696-e4ac-f7682bf16581"
      },
      "execution_count": null,
      "outputs": [
        {
          "output_type": "stream",
          "name": "stdout",
          "text": [
            "DatetimeIndex(['2005-01-04 12:55:00', '2005-01-23 23:15:00',\n",
            "               '2005-02-17 04:15:00', '2005-02-20 17:15:00',\n",
            "               '2005-02-24 01:20:00', '2005-03-14 10:00:00',\n",
            "               '2005-03-29 21:55:00', '2005-04-04 21:25:00',\n",
            "               '2005-07-14 11:20:00', '2005-07-14 19:55:00',\n",
            "               ...\n",
            "               '2015-12-31 13:23:00', '2015-12-31 18:59:00',\n",
            "               '2015-12-31 19:13:00', '2015-12-31 20:20:00',\n",
            "               '2015-12-31 20:50:00', '2015-12-31 21:21:00',\n",
            "               '2015-12-31 21:59:00', '2015-12-31 22:04:00',\n",
            "               '2015-12-31 22:09:00', '2015-12-31 22:47:00'],\n",
            "              dtype='datetime64[ns]', name='stop_datetime', length=86536, freq=None)\n",
            "Index(['stop_date', 'stop_time', 'driver_gender', 'driver_race',\n",
            "       'violation_raw', 'violation', 'search_conducted', 'search_type',\n",
            "       'stop_outcome', 'is_arrested', 'stop_duration', 'drugs_related_stop',\n",
            "       'district'],\n",
            "      dtype='object')\n"
          ]
        }
      ]
    },
    {
      "cell_type": "markdown",
      "source": [
        "Examining traffic violations\n",
        "\n",
        "Before comparing the violations being committed by each gender, we should examine the violations committed by all drivers to get a baseline understanding of the data"
      ],
      "metadata": {
        "id": "7t_tCtuqMU_0"
      }
    },
    {
      "cell_type": "code",
      "source": [
        "# Count the unique values in 'violation'\n",
        "print(ri.violation.value_counts())\n",
        "\n",
        "# Express the counts as proportions\n",
        "print(\"\\nproportion of violations\")\n",
        "print(ri.violation.value_counts(normalize=True))"
      ],
      "metadata": {
        "colab": {
          "base_uri": "https://localhost:8080/"
        },
        "id": "095RPi05LTjq",
        "outputId": "466f32bf-5f5c-443e-f3d0-2a6e82f57730"
      },
      "execution_count": null,
      "outputs": [
        {
          "output_type": "stream",
          "name": "stdout",
          "text": [
            "Speeding               48423\n",
            "Moving violation       16224\n",
            "Equipment              10921\n",
            "Other                   4409\n",
            "Registration/plates     3703\n",
            "Seat belt               2856\n",
            "Name: violation, dtype: int64\n",
            "\n",
            "proportion of violations\n",
            "Speeding               0.559571\n",
            "Moving violation       0.187483\n",
            "Equipment              0.126202\n",
            "Other                  0.050950\n",
            "Registration/plates    0.042791\n",
            "Seat belt              0.033004\n",
            "Name: violation, dtype: float64\n"
          ]
        }
      ]
    },
    {
      "cell_type": "markdown",
      "source": [
        "Comparing violations by gender\n",
        "\n",
        "The question we're trying to answer is whether male and female drivers tend to commit different types of traffic violations."
      ],
      "metadata": {
        "id": "_pM6WMdaM0tW"
      }
    },
    {
      "cell_type": "code",
      "source": [
        "# Create a DataFrame of female drivers\n",
        "female = ri[ri['driver_gender']=='F']\n",
        "\n",
        "# Create a DataFrame of male drivers\n",
        "male = ri[ri['driver_gender']=='M']\n",
        "\n",
        "# Compute the violations by female drivers (as proportions)\n",
        "print(\"Female violations proportion \\n\",female.violation.value_counts(normalize=True),'\\n')\n",
        "\n",
        "# Compute the violations by male drivers (as proportions)\n",
        "print(\"Male violations proportion \\n\",male.violation.value_counts(normalize=True))"
      ],
      "metadata": {
        "colab": {
          "base_uri": "https://localhost:8080/"
        },
        "id": "wRGlQICxM2Bs",
        "outputId": "a85d96d6-832f-46c2-95ba-408c46e0afbb"
      },
      "execution_count": null,
      "outputs": [
        {
          "output_type": "stream",
          "name": "stdout",
          "text": [
            "Female violations proportion \n",
            " Speeding               0.658114\n",
            "Moving violation       0.138218\n",
            "Equipment              0.105199\n",
            "Registration/plates    0.044418\n",
            "Other                  0.029738\n",
            "Seat belt              0.024312\n",
            "Name: violation, dtype: float64 \n",
            "\n",
            "Male violations proportion \n",
            " Speeding               0.522243\n",
            "Moving violation       0.206144\n",
            "Equipment              0.134158\n",
            "Other                  0.058985\n",
            "Registration/plates    0.042175\n",
            "Seat belt              0.036296\n",
            "Name: violation, dtype: float64\n"
          ]
        }
      ]
    },
    {
      "cell_type": "markdown",
      "source": [
        "About two-thirds of female traffic stops are for speeding, whereas stops of males are more balanced among the six categories. This doesn't mean that females speed more often than males, however, since we didn't take into account the number of stops or drivers."
      ],
      "metadata": {
        "id": "IMkKtWz-3ELo"
      }
    },
    {
      "cell_type": "markdown",
      "source": [
        "Comparing speeding outcomes by gender\n",
        "\n",
        "When a driver is pulled over for speeding, many people believe that gender has an impact on whether the driver will receive a ticket or a warning. Can you find evidence of this in the dataset?\n",
        "\n",
        "First, you'll create two DataFrames of drivers who were stopped for speeding: one containing females and the other containing males.\n",
        "\n",
        "Then, for each gender, you'll use the stop_outcome column to calculate what percentage of stops resulted in a \"Citation\" (meaning a ticket) versus a \"Warning\"."
      ],
      "metadata": {
        "id": "rZ3iThDM4QHd"
      }
    },
    {
      "cell_type": "code",
      "source": [
        "# Create a DataFrame of female drivers stopped for speeding\n",
        "female_and_speeding = ri[(ri['driver_gender']=='F') & (ri['violation']=='Speeding')]\n",
        "\n",
        "# Create a DataFrame of male drivers stopped for speeding\n",
        "male_and_speeding = ri[(ri['driver_gender']=='M') & (ri['violation']=='Speeding')]\n",
        "\n",
        "# Compute the stop outcomes for female drivers (as proportions)\n",
        "print(\"stop outcomes for female drivers \\n\",female_and_speeding.stop_outcome.value_counts(normalize=True),'\\n')\n",
        "\n",
        "# Compute the stop outcomes for male drivers (as proportions)\n",
        "print(\"stop outcomes for male drivers \\n\",male_and_speeding.stop_outcome.value_counts(normalize=True),'\\n')"
      ],
      "metadata": {
        "colab": {
          "base_uri": "https://localhost:8080/"
        },
        "id": "YdU4nBAH3FBI",
        "outputId": "816d3461-f41c-4121-be8b-a2f0e21cf84b"
      },
      "execution_count": null,
      "outputs": [
        {
          "output_type": "stream",
          "name": "stdout",
          "text": [
            "stop outcomes for female drivers \n",
            " Citation            0.952192\n",
            "Warning             0.040074\n",
            "Arrest Driver       0.005752\n",
            "N/D                 0.000959\n",
            "Arrest Passenger    0.000639\n",
            "No Action           0.000383\n",
            "Name: stop_outcome, dtype: float64 \n",
            "\n",
            "stop outcomes for male drivers \n",
            " Citation            0.944595\n",
            "Warning             0.036184\n",
            "Arrest Driver       0.015895\n",
            "Arrest Passenger    0.001281\n",
            "No Action           0.001068\n",
            "N/D                 0.000976\n",
            "Name: stop_outcome, dtype: float64 \n",
            "\n"
          ]
        }
      ]
    },
    {
      "cell_type": "markdown",
      "source": [
        "Interesting! The numbers are similar for males and females: about 95% of stops for speeding result in a ticket. Thus, the data fails to show that gender has an impact on who gets a ticket for speeding."
      ],
      "metadata": {
        "id": "7qWLmOO45f2m"
      }
    },
    {
      "cell_type": "markdown",
      "source": [
        "Comparing search rates by gender\n",
        "\n",
        "During a traffic stop, the police officer sometimes conducts a search of the vehicle. We'll calculate the percentage of all stops in the ri DataFrame that result in a vehicle search, also known as the search rate.\n",
        "Then, we'll compare the rates at which female and male drivers are searched during a traffic stop. "
      ],
      "metadata": {
        "id": "NxV7X9bn6PIL"
      }
    },
    {
      "cell_type": "code",
      "source": [
        "# Check the data type of 'search_conducted' to show it's boolean so the value counts and mean will work for the True \n",
        "print(ri.search_conducted.dtype)\n",
        "\n",
        "# Calculate the search rate by counting the values\n",
        "print(ri.search_conducted.value_counts(normalize=True))\n",
        "\n",
        "# Calculate the search rate by taking the mean\n",
        "print(ri.search_conducted.mean())\n",
        "\n",
        "# Calculate the search rate for female drivers\n",
        "print(\"\\nSearch rate for female drivers \\n\",ri[ri.driver_gender=='F'].search_conducted.mean(),'\\n')\n",
        "\n",
        "# Calculate the search rate for male drivers\n",
        "print(\"Search rate for female drivers \\n\",ri[ri.driver_gender=='M'].search_conducted.mean(),'\\n')\n",
        "\n",
        "#OR\n",
        "# Calculate the search rate for both groups simultaneously\n",
        "print(\"Using Groupby \\n\", ri.groupby('driver_gender').search_conducted.mean())"
      ],
      "metadata": {
        "colab": {
          "base_uri": "https://localhost:8080/"
        },
        "id": "s07WO-R26rtM",
        "outputId": "26d2f32d-63f9-4510-a1a2-4a995e151970"
      },
      "execution_count": null,
      "outputs": [
        {
          "output_type": "stream",
          "name": "stdout",
          "text": [
            "bool\n",
            "False    0.961785\n",
            "True     0.038215\n",
            "Name: search_conducted, dtype: float64\n",
            "0.0382153092354627\n",
            "\n",
            "Search rate for female drivers \n",
            " 0.019180617481282074 \n",
            "\n",
            "Search rate for female drivers \n",
            " 0.04542557598546892 \n",
            "\n",
            "Using Groupby \n",
            " driver_gender\n",
            "F    0.019181\n",
            "M    0.045426\n",
            "Name: search_conducted, dtype: float64\n"
          ]
        }
      ]
    },
    {
      "cell_type": "markdown",
      "source": [
        "Wow! Male drivers are searched more than twice as often as female drivers. Why might this be?"
      ],
      "metadata": {
        "id": "4hugua1L73Fx"
      }
    },
    {
      "cell_type": "markdown",
      "source": [
        "Adding a second factor to the analysis\n",
        "\n",
        "Even though the search rate for males is much higher than for females, it's possible that the difference is mostly due to a second factor.\n",
        "\n",
        "For example, you might hypothesize that the search rate varies by violation type, and the difference in search rate between males and females is because they tend to commit different violations.\n",
        "\n",
        "You can test this hypothesis by examining the search rate for each combination of gender and violation. If the hypothesis was true, you would find that males and females are searched at about the same rate for each violation. Let's find out if that's the case!"
      ],
      "metadata": {
        "id": "9lTllM7G8F52"
      }
    },
    {
      "cell_type": "code",
      "source": [
        "# Calculate the search rate for each combination of gender and violation\n",
        "print(ri.groupby(['violation','driver_gender']).search_conducted.mean())"
      ],
      "metadata": {
        "colab": {
          "base_uri": "https://localhost:8080/"
        },
        "id": "ZSAGI3Jo8HFB",
        "outputId": "67e4996c-4a29-46c6-d3e8-55be7f1d86b6"
      },
      "execution_count": null,
      "outputs": [
        {
          "output_type": "stream",
          "name": "stdout",
          "text": [
            "violation            driver_gender\n",
            "Equipment            F                0.039984\n",
            "                     M                0.071496\n",
            "Moving violation     F                0.039257\n",
            "                     M                0.061524\n",
            "Other                F                0.041018\n",
            "                     M                0.046191\n",
            "Registration/plates  F                0.054924\n",
            "                     M                0.108802\n",
            "Seat belt            F                0.017301\n",
            "                     M                0.035119\n",
            "Speeding             F                0.008309\n",
            "                     M                0.027885\n",
            "Name: search_conducted, dtype: float64\n"
          ]
        }
      ]
    },
    {
      "cell_type": "markdown",
      "source": [
        "For all types of violations, the search rate is higher for males than for females, disproving our hypothesis."
      ],
      "metadata": {
        "id": "FfGO_1LB8-Ba"
      }
    },
    {
      "cell_type": "markdown",
      "source": [
        "Counting protective frisks\n",
        "\n",
        "During a vehicle search, the police officer may pat down the driver to check if they have a weapon. This is known as a \"protective frisk.\"\n",
        "\n",
        "We'll first check to see how many times \"Protective Frisk\" was the only search type. Then, we'll use a string method to locate all instances in which the driver was frisked."
      ],
      "metadata": {
        "id": "ldIx2N2-_LBK"
      }
    },
    {
      "cell_type": "code",
      "source": [
        "# Count the 'search_type' values\n",
        "print(\"Count the 'search_type' values\\n\",ri.search_type.value_counts(),'\\n')\n",
        "\n",
        "# Check if 'search_type' contains the string 'Protective Frisk'\n",
        "ri['frisk'] = ri.search_type.str.contains('Protective Frisk', na=False)\n",
        "\n",
        "# Check the data type of 'frisk'\n",
        "print(\"data type of 'frisk'\",ri.frisk.dtype,'\\n')\n",
        "\n",
        "# Take the sum of 'frisk'\n",
        "print(\"nb of times frisk was presented\", ri.frisk.sum())"
      ],
      "metadata": {
        "colab": {
          "base_uri": "https://localhost:8080/"
        },
        "id": "K_5qmBFY_MeM",
        "outputId": "2168ab24-3f37-4d7c-8b53-e5989a1410f9"
      },
      "execution_count": null,
      "outputs": [
        {
          "output_type": "stream",
          "name": "stdout",
          "text": [
            "Count the 'search_type' values\n",
            " Incident to Arrest                                          1290\n",
            "Probable Cause                                               924\n",
            "Inventory                                                    219\n",
            "Reasonable Suspicion                                         214\n",
            "Protective Frisk                                             164\n",
            "Incident to Arrest,Inventory                                 123\n",
            "Incident to Arrest,Probable Cause                            100\n",
            "Probable Cause,Reasonable Suspicion                           54\n",
            "Incident to Arrest,Inventory,Probable Cause                   35\n",
            "Probable Cause,Protective Frisk                               35\n",
            "Incident to Arrest,Protective Frisk                           33\n",
            "Inventory,Probable Cause                                      25\n",
            "Protective Frisk,Reasonable Suspicion                         19\n",
            "Incident to Arrest,Inventory,Protective Frisk                 18\n",
            "Incident to Arrest,Probable Cause,Protective Frisk            13\n",
            "Inventory,Protective Frisk                                    12\n",
            "Incident to Arrest,Reasonable Suspicion                        8\n",
            "Probable Cause,Protective Frisk,Reasonable Suspicion           5\n",
            "Incident to Arrest,Probable Cause,Reasonable Suspicion         5\n",
            "Incident to Arrest,Inventory,Reasonable Suspicion              4\n",
            "Incident to Arrest,Protective Frisk,Reasonable Suspicion       2\n",
            "Inventory,Reasonable Suspicion                                 2\n",
            "Inventory,Protective Frisk,Reasonable Suspicion                1\n",
            "Inventory,Probable Cause,Reasonable Suspicion                  1\n",
            "Inventory,Probable Cause,Protective Frisk                      1\n",
            "Name: search_type, dtype: int64 \n",
            "\n",
            "data type of 'frisk' bool \n",
            "\n",
            "nb of times frisk was presented 303\n"
          ]
        }
      ]
    },
    {
      "cell_type": "markdown",
      "source": [
        " It looks like there were 303 drivers who were frisked. Next, you'll examine whether gender affects who is frisked."
      ],
      "metadata": {
        "id": "BTAA1VXlAKrK"
      }
    },
    {
      "cell_type": "markdown",
      "source": [
        "Comparing frisk rates by gender\n",
        "\n",
        "we'll compare the rates at which female and male drivers are frisked during a search. Are males frisked more often than females, perhaps because police officers consider them to be higher risk?\n",
        "\n",
        "Before doing any calculations, it's important to filter the DataFrame to only include the relevant subset of data, namely stops in which a search was conducted."
      ],
      "metadata": {
        "id": "87fPOdIJAT7f"
      }
    },
    {
      "cell_type": "code",
      "source": [
        "# Create a DataFrame of stops in which a search was conducted\n",
        "searched = ri[ri.search_conducted == True]\n",
        "\n",
        "# Calculate the overall frisk rate by taking the mean of 'frisk'\n",
        "print(\"overall frisk rate by taking the mean of 'frisk'\",searched.frisk.mean(),'\\n')\n",
        "\n",
        "# Calculate the frisk rate for each gender\n",
        "print(\"frisk rate for each gender\",searched.groupby('driver_gender').frisk.mean())"
      ],
      "metadata": {
        "colab": {
          "base_uri": "https://localhost:8080/"
        },
        "id": "3WvdZfh9AoTz",
        "outputId": "3e528d16-3088-481b-c821-2f5f1e3b376a"
      },
      "execution_count": null,
      "outputs": [
        {
          "output_type": "stream",
          "name": "stdout",
          "text": [
            "overall frisk rate by taking the mean of 'frisk' 0.09162382824312065 \n",
            "\n",
            "frisk rate for each gender driver_gender\n",
            "F    0.074561\n",
            "M    0.094353\n",
            "Name: frisk, dtype: float64\n"
          ]
        }
      ]
    },
    {
      "cell_type": "markdown",
      "source": [
        "Interesting! The frisk rate is higher for males than for females, though we can't conclude that this difference is caused by the driver's gender."
      ],
      "metadata": {
        "id": "IjGL2TV5EfVc"
      }
    },
    {
      "cell_type": "markdown",
      "source": [
        "# Visual EDA"
      ],
      "metadata": {
        "id": "YzXzdRejFHPg"
      }
    },
    {
      "cell_type": "markdown",
      "source": [
        "Calculating the hourly arrest rate\n",
        "\n",
        "When a police officer stops a driver, a small percentage of those stops ends in an arrest. This is known as the arrest rate.we'll find out whether the arrest rate varies by time of day.\n",
        "\n",
        "First, you'll calculate the arrest rate across all stops in the ri DataFrame. Then, you'll calculate the hourly arrest rate by using the hour attribute of the index. The hour ranges from 0 to 23, in which:\n",
        "\n",
        "0 = midnight\n",
        "12 = noon\n",
        "23 = 11 PM"
      ],
      "metadata": {
        "id": "bdAf1kGdFRaR"
      }
    },
    {
      "cell_type": "code",
      "source": [
        "# Calculate the overall arrest rate\n",
        "print(ri.is_arrested.mean())\n",
        "\n",
        "# Calculate the hourly arrest rate\n",
        "print(ri.groupby(ri.index.hour).is_arrested.mean())\n",
        "\n",
        "# Save the hourly arrest rate\n",
        "hourly_arrest_rate = ri.groupby(ri.index.hour).is_arrested.mean()"
      ],
      "metadata": {
        "colab": {
          "base_uri": "https://localhost:8080/"
        },
        "id": "XftavC6AFH0m",
        "outputId": "d143e96f-c5e7-41c0-e215-40420e4367c6"
      },
      "execution_count": null,
      "outputs": [
        {
          "output_type": "stream",
          "name": "stdout",
          "text": [
            "0.0355690117407784\n",
            "stop_datetime\n",
            "0     0.051431\n",
            "1     0.064932\n",
            "2     0.060798\n",
            "3     0.060549\n",
            "4     0.048000\n",
            "5     0.042781\n",
            "6     0.013813\n",
            "7     0.013032\n",
            "8     0.021854\n",
            "9     0.025206\n",
            "10    0.028213\n",
            "11    0.028897\n",
            "12    0.037399\n",
            "13    0.030776\n",
            "14    0.030605\n",
            "15    0.030679\n",
            "16    0.035281\n",
            "17    0.040619\n",
            "18    0.038204\n",
            "19    0.032245\n",
            "20    0.038107\n",
            "21    0.064541\n",
            "22    0.048666\n",
            "23    0.047592\n",
            "Name: is_arrested, dtype: float64\n"
          ]
        }
      ]
    },
    {
      "cell_type": "markdown",
      "source": [
        "Plotting the hourly arrest rate\n",
        "\n",
        "we'll create a line plot from the hourly_arrest_rate object. A line plot is appropriate in this case because you're showing how a quantity changes over time.\n",
        "\n",
        "This plot should help you to spot some trends that may not have been obvious when examining the raw numbers!"
      ],
      "metadata": {
        "id": "c7ZA1WDKGZVs"
      }
    },
    {
      "cell_type": "code",
      "source": [
        "# Import matplotlib.pyplot as plt\n",
        "import matplotlib.pyplot as plt\n",
        "\n",
        "# Create a line plot of 'hourly_arrest_rate'\n",
        "plt.plot(hourly_arrest_rate)\n",
        "\n",
        "# Add the xlabel, ylabel, and title\n",
        "plt.xlabel('Hour')\n",
        "plt.ylabel('Arrest Rate')\n",
        "plt.title('Arrest Rate by Time of Day')\n",
        "\n",
        "# Display the plot\n",
        "plt.show()"
      ],
      "metadata": {
        "colab": {
          "base_uri": "https://localhost:8080/",
          "height": 295
        },
        "id": "KaTarrWIGapS",
        "outputId": "7922e381-04ad-4815-918d-be2d27104c5e"
      },
      "execution_count": null,
      "outputs": [
        {
          "output_type": "display_data",
          "data": {
            "text/plain": [
              "<Figure size 432x288 with 1 Axes>"
            ],
            "image/png": "[encoded data removed]"
          },
          "metadata": {
            "needs_background": "light"
          }
        }
      ]
    },
    {
      "cell_type": "markdown",
      "source": [
        "Wow! The arrest rate has a significant spike overnight, and then dips in the early morning hours."
      ],
      "metadata": {
        "id": "GN8YfnDFGytv"
      }
    },
    {
      "cell_type": "markdown",
      "source": [
        "Plotting drug-related stops\n",
        "\n",
        "In a small portion of traffic stops, drugs are found in the vehicle during a search. In this exercise, you'll assess whether these drug-related stops are becoming more common over time.\n",
        "\n",
        "The Boolean column drugs_related_stop indicates whether drugs were found during a given stop. You'll calculate the annual drug rate by resampling this column, and then you'll use a line plot to visualize how the rate has changed over time."
      ],
      "metadata": {
        "id": "YxoJZBhLIGul"
      }
    },
    {
      "cell_type": "code",
      "source": [
        "# Calculate the annual rate of drug-related stops\n",
        "print(ri.drugs_related_stop.resample('A').mean())\n",
        "\n",
        "# Save the annual rate of drug-related stops\n",
        "annual_drug_rate = ri.drugs_related_stop.resample('A').mean()\n",
        "\n",
        "# Create a line plot of 'annual_drug_rate'\n",
        "plt.plot(annual_drug_rate)\n",
        "\n",
        "# Display the plot\n",
        "plt.show()\n"
      ],
      "metadata": {
        "colab": {
          "base_uri": "https://localhost:8080/",
          "height": 491
        },
        "id": "dlh7dQnTGziv",
        "outputId": "1e2a87d1-8a3b-4409-de65-21e049583c1d"
      },
      "execution_count": null,
      "outputs": [
        {
          "output_type": "stream",
          "name": "stdout",
          "text": [
            "stop_datetime\n",
            "2005-12-31    0.006501\n",
            "2006-12-31    0.007258\n",
            "2007-12-31    0.007970\n",
            "2008-12-31    0.007505\n",
            "2009-12-31    0.009889\n",
            "2010-12-31    0.010081\n",
            "2011-12-31    0.009731\n",
            "2012-12-31    0.009921\n",
            "2013-12-31    0.013094\n",
            "2014-12-31    0.013826\n",
            "2015-12-31    0.012266\n",
            "Freq: A-DEC, Name: drugs_related_stop, dtype: float64\n"
          ]
        },
        {
          "output_type": "display_data",
          "data": {
            "text/plain": [
              "<Figure size 432x288 with 1 Axes>"
            ],
            "image/png": "[encoded data removed]"
          },
          "metadata": {
            "needs_background": "light"
          }
        }
      ]
    },
    {
      "cell_type": "markdown",
      "source": [
        "Interesting! The rate of drug-related stops nearly doubled over the course of 10 years. Why might that be the case?"
      ],
      "metadata": {
        "id": "Hq1J2w8vKHUl"
      }
    },
    {
      "cell_type": "markdown",
      "source": [
        "Comparing drug and search rates\n",
        "\n",
        "from the last exercise, the rate of drug-related stops increased significantly between 2005 and 2015. You might hypothesize that the rate of vehicle searches was also increasing, which would have led to an increase in drug-related stops even if more drivers were not carrying drugs.\n",
        "\n",
        "You can test this hypothesis by calculating the annual search rate, and then plotting it against the annual drug rate. If the hypothesis is true, then you'll see both rates increasing over time."
      ],
      "metadata": {
        "id": "eDKeH-hMKT1J"
      }
    },
    {
      "cell_type": "code",
      "source": [
        "# Calculate and save the annual search rate\n",
        "annual_search_rate = ri.search_conducted.resample('A').mean()\n",
        "\n",
        "# Concatenate 'annual_drug_rate' and 'annual_search_rate'\n",
        "annual = pd.concat([annual_drug_rate,annual_search_rate], axis='columns')\n",
        "print(annual.head())\n",
        "# Create subplots from 'annual'\n",
        "annual.plot(subplots=True)\n",
        "\n",
        "# Display the subplots\n",
        "plt.show()"
      ],
      "metadata": {
        "colab": {
          "base_uri": "https://localhost:8080/",
          "height": 402
        },
        "id": "ZIJPtSUSKVV9",
        "outputId": "7f441002-32d2-4ec9-e756-ec5ab26eed52"
      },
      "execution_count": null,
      "outputs": [
        {
          "output_type": "stream",
          "name": "stdout",
          "text": [
            "               drugs_related_stop  search_conducted\n",
            "stop_datetime                                      \n",
            "2005-12-31               0.006501          0.049167\n",
            "2006-12-31               0.007258          0.041758\n",
            "2007-12-31               0.007970          0.044056\n",
            "2008-12-31               0.007505          0.040310\n",
            "2009-12-31               0.009889          0.049861\n"
          ]
        },
        {
          "output_type": "display_data",
          "data": {
            "text/plain": [
              "<Figure size 432x288 with 2 Axes>"
            ],
            "image/png": "[encoded data removed]"
          },
          "metadata": {
            "needs_background": "light"
          }
        }
      ]
    },
    {
      "cell_type": "markdown",
      "source": [
        "The rate of drug-related stops increased even though the search rate decreased, disproving our hypothesis."
      ],
      "metadata": {
        "id": "bgImlPWpM8UL"
      }
    },
    {
      "cell_type": "markdown",
      "source": [
        "Plotting violations by district\n",
        "\n",
        "Now that you've created a frequency table focused on the \"K\" zones, you'll visualize the data to help you compare what violations are being caught in each zone.\n",
        "\n",
        "First you'll create a bar plot, which is an appropriate plot type since you're comparing categorical data. Then you'll create a stacked bar plot in order to get a slightly different look at the data. Which plot do you find to be more insightful?"
      ],
      "metadata": {
        "id": "ENGhgI4tPZDV"
      }
    },
    {
      "cell_type": "code",
      "source": [
        "# Create a frequency table of districts and violations\n",
        "print(pd.crosstab(ri.district, ri.violation))\n",
        "\n",
        "# Save the frequency table as 'all_zones'\n",
        "all_zones = pd.crosstab(ri.district, ri.violation)\n",
        "\n",
        "# Select rows 'Zone K1' through 'Zone K3'\n",
        "print(all_zones.loc['Zone K1' : 'Zone K3'])\n",
        "\n",
        "# Save the smaller table as 'k_zones'\n",
        "k_zones = all_zones.loc['Zone K1' : 'Zone K3']"
      ],
      "metadata": {
        "colab": {
          "base_uri": "https://localhost:8080/"
        },
        "id": "4slpPqTUPYcm",
        "outputId": "eb712708-b13f-428a-cefb-f828473b6956"
      },
      "execution_count": null,
      "outputs": [
        {
          "output_type": "stream",
          "name": "stdout",
          "text": [
            "violation  Equipment  Moving violation  Other  Registration/plates  Seat belt  \\\n",
            "district                                                                        \n",
            "Zone K1          672              1254    290                  120          0   \n",
            "Zone K2         2061              2962    942                  768        481   \n",
            "Zone K3         2302              2898    705                  695        638   \n",
            "Zone X1          296               671    143                   38         74   \n",
            "Zone X3         2049              3086    769                  671        820   \n",
            "Zone X4         3541              5353   1560                 1411        843   \n",
            "\n",
            "violation  Speeding  \n",
            "district             \n",
            "Zone K1        5960  \n",
            "Zone K2       10448  \n",
            "Zone K3       12322  \n",
            "Zone X1        1119  \n",
            "Zone X3        8779  \n",
            "Zone X4        9795  \n",
            "violation  Equipment  Moving violation  Other  Registration/plates  Seat belt  \\\n",
            "district                                                                        \n",
            "Zone K1          672              1254    290                  120          0   \n",
            "Zone K2         2061              2962    942                  768        481   \n",
            "Zone K3         2302              2898    705                  695        638   \n",
            "\n",
            "violation  Speeding  \n",
            "district             \n",
            "Zone K1        5960  \n",
            "Zone K2       10448  \n",
            "Zone K3       12322  \n"
          ]
        }
      ]
    },
    {
      "cell_type": "code",
      "source": [
        "# Create a bar plot of 'k_zones'\n",
        "k_zones.plot(kind='bar')\n",
        "\n",
        "# Display the plot\n",
        "plt.show()"
      ],
      "metadata": {
        "colab": {
          "base_uri": "https://localhost:8080/",
          "height": 311
        },
        "id": "BOfRYKkbP2Ae",
        "outputId": "585c7cda-a505-4996-dcdb-8e8d6b91dc58"
      },
      "execution_count": null,
      "outputs": [
        {
          "output_type": "display_data",
          "data": {
            "text/plain": [
              "<Figure size 432x288 with 1 Axes>"
            ],
            "image/png": "[encoded data removed]"
          },
          "metadata": {
            "needs_background": "light"
          }
        }
      ]
    },
    {
      "cell_type": "markdown",
      "source": [
        "Interesting! The vast majority of traffic stops in Zone K1 are for speeding, and Zones K2 and K3 are remarkably similar to one another in terms of violations."
      ],
      "metadata": {
        "id": "Vy5VAyyvQYnq"
      }
    },
    {
      "cell_type": "markdown",
      "source": [
        "Converting stop durations to numbers\n",
        "\n",
        "In the traffic stops dataset, the stop_duration column tells you approximately how long the driver was detained by the officer. Unfortunately, the durations are stored as strings, such as '0-15 Min'. How can you make this data easier to analyze?\n",
        "\n",
        "We'll convert the stop durations to integers. Because the precise durations are not available, you'll have to estimate the numbers using reasonable values:\n",
        "\n",
        "Convert '0-15 Min' to 8\n",
        "Convert '16-30 Min' to 23\n",
        "Convert '30+ Min' to 45"
      ],
      "metadata": {
        "id": "pH8zB3M-RRZc"
      }
    },
    {
      "cell_type": "code",
      "source": [
        "# Print the unique values in 'stop_duration'\n",
        "print(ri.stop_duration.unique())\n",
        "\n",
        "# Create a dictionary that maps strings to integers\n",
        "mapping = {'0-15 Min':8, '16-30 Min': 23, '30+ Min':45}\n",
        "\n",
        "# Convert the 'stop_duration' strings to integers using the 'mapping'\n",
        "ri['stop_minutes'] = ri.stop_duration.map(mapping)\n",
        "\n",
        "# Print the unique values in 'stop_minutes'\n",
        "print(ri.stop_minutes.unique())"
      ],
      "metadata": {
        "colab": {
          "base_uri": "https://localhost:8080/"
        },
        "id": "u1bETjHBR9Qv",
        "outputId": "b46a7d8f-6a2c-4196-db49-2343463b1405"
      },
      "execution_count": null,
      "outputs": [
        {
          "output_type": "stream",
          "name": "stdout",
          "text": [
            "['0-15 Min' '16-30 Min' '30+ Min']\n",
            "[ 8 23 45]\n"
          ]
        }
      ]
    },
    {
      "cell_type": "markdown",
      "source": [
        "Next you'll analyze the stop length for each type of violation.\n"
      ],
      "metadata": {
        "id": "221goCNbSODO"
      }
    },
    {
      "cell_type": "markdown",
      "source": [
        "Plotting stop length\n",
        "\n",
        "If you were stopped for a particular violation, how long might you expect to be detained?\n",
        "\n",
        "In this exercise, you'll visualize the average length of time drivers are stopped for each type of violation. Rather than using the violation column in this exercise, you'll use violation_raw since it contains more detailed descriptions of the violations."
      ],
      "metadata": {
        "id": "2vC8a_J7SToj"
      }
    },
    {
      "cell_type": "code",
      "source": [
        "# Calculate the mean 'stop_minutes' for each value in 'violation_raw'\n",
        "print(ri.groupby('violation_raw').stop_minutes.mean())\n",
        "\n",
        "# Save the resulting Series as 'stop_length'\n",
        "stop_length = ri.groupby('violation_raw').stop_minutes.mean()\n",
        "\n",
        "# Sort 'stop_length' by its values and create a horizontal bar plot\n",
        "stop_length.sort_values().plot(kind='barh')\n",
        "\n",
        "# Display the plot\n",
        "plt.show()"
      ],
      "metadata": {
        "colab": {
          "base_uri": "https://localhost:8080/",
          "height": 508
        },
        "id": "sjOat2CrTNqm",
        "outputId": "64cb8be6-9515-4d94-9f57-b45f6a2c7c95"
      },
      "execution_count": null,
      "outputs": [
        {
          "output_type": "stream",
          "name": "stdout",
          "text": [
            "violation_raw\n",
            "APB                                 17.967033\n",
            "Call for Service                    22.124371\n",
            "Equipment/Inspection Violation      11.445655\n",
            "Motorist Assist/Courtesy            17.741463\n",
            "Other Traffic Violation             13.844490\n",
            "Registration Violation              13.736970\n",
            "Seatbelt Violation                   9.662815\n",
            "Special Detail/Directed Patrol      15.123632\n",
            "Speeding                            10.581562\n",
            "Suspicious Person                   14.910714\n",
            "Violation of City/Town Ordinance    13.254144\n",
            "Warrant                             24.055556\n",
            "Name: stop_minutes, dtype: float64\n"
          ]
        },
        {
          "output_type": "display_data",
          "data": {
            "text/plain": [
              "<Figure size 432x288 with 1 Axes>"
            ],
            "image/png": "[encoded data removed]"
          },
          "metadata": {
            "needs_background": "light"
          }
        }
      ]
    }
  ]
}